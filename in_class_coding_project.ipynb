{
 "cells": [
  {
   "cell_type": "markdown",
   "metadata": {},
   "source": [
    "## In Class: 2019/01/14\n",
    "## Projective transforms\n",
    "\n",
    "Your task for the day is to write a program that simulates taking a digital photograph.  Imagine that we have a camera positioned at the origin, with a focal length of 1000 pixels and a sensor size of 2000 x 1000 pixels.  Coordinates.txt contains $p$ (point coordinates) and $I$ (intensity values) of a simulated landscape.  Use a projective transform to simulate a digital image of the landscape.  (Don't forget to crop your image to the sensor size). \n",
    "\n",
    "Some relevant equations:\n",
    "\n",
    "3D world coordinates to generalized camera coordinates:\n",
    "$$x = p_0/p_2$$\n",
    "$$y = p_1/p_2$$\n",
    "\n",
    "generalized camera coordinates to pixel values:\n",
    "$$ u = f x + c_x $$\n",
    "$$ v = f y + c_y, $$\n",
    "where $u$ and $v$ are the pixel locations, $f$ is the focal length, and $c_x$ and $c_y$ are the pixel coordinates of the image center.  "
   ]
  },
  {
   "cell_type": "code",
   "execution_count": 18,
   "metadata": {},
   "outputs": [],
   "source": [
    "import matplotlib.pyplot as plt\n",
    "import numpy as np"
   ]
  },
  {
   "cell_type": "code",
   "execution_count": 19,
   "metadata": {},
   "outputs": [],
   "source": [
    "sensor_size = (2000, 1000)\n",
    "f = 1000\n",
    "\n",
    "x0, y0, z0, I = np.loadtxt(\"./coordinates.txt\", unpack=1)\n",
    "\n",
    "# Generalized\n",
    "x = x0 / z0\n",
    "y = y0 / z0\n",
    "\n",
    "u = (x * f) + (sensor_size[0] // 2)\n",
    "v = (y * f) + (sensor_size[1] // 2)\n",
    "# Crop\n",
    "uc = u[u < sensor_size[0]]\n",
    "vc = v[v < sensor_size[1]]"
   ]
  },
  {
   "cell_type": "code",
   "execution_count": 20,
   "metadata": {},
   "outputs": [],
   "source": [
    "img = np.empty(sensor_size)\n",
    "i = 0\n",
    "for iv in range(sensor_size[1]):\n",
    "    for iu in range(sensor_size[0]):\n",
    "        img[iu][iv] = I[i]\n",
    "    i += 1"
   ]
  },
  {
   "cell_type": "code",
   "execution_count": 22,
   "metadata": {},
   "outputs": [
    {
     "data": {
      "text/plain": [
       "<matplotlib.image.AxesImage at 0x117bc1d68>"
      ]
     },
     "execution_count": 22,
     "metadata": {},
     "output_type": "execute_result"
    },
    {
     "data": {
      "image/png": "[encoded data removed]",
      "text/plain": [
       "<Figure size 432x288 with 1 Axes>"
      ]
     },
     "metadata": {
      "needs_background": "light"
     },
     "output_type": "display_data"
    }
   ],
   "source": [
    "plt.imshow(img.T)"
   ]
  },
  {
   "cell_type": "code",
   "execution_count": null,
   "metadata": {},
   "outputs": [],
   "source": []
  }
 ],
 "metadata": {
  "kernelspec": {
   "display_name": "Python 3",
   "language": "python",
   "name": "python3"
  },
  "language_info": {
   "codemirror_mode": {
    "name": "ipython",
    "version": 3
   },
   "file_extension": ".py",
   "mimetype": "text/x-python",
   "name": "python",
   "nbconvert_exporter": "python",
   "pygments_lexer": "ipython3",
   "version": "3.6.8"
  }
 },
 "nbformat": 4,
 "nbformat_minor": 2
}
